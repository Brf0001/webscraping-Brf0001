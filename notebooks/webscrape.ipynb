{
 "cells": [
  {
   "cell_type": "code",
   "execution_count": 1,
   "metadata": {},
   "outputs": [],
   "source": [
    "import requests\n",
    "from bs4 import BeautifulSoup as BS\n",
    "import pandas as pd\n"
   ]
  },
  {
   "attachments": {},
   "cell_type": "markdown",
   "metadata": {},
   "source": [
    "In this exercise, you'll practice using BeautifulSoup to parse the content of a web page. The page that you'll be scraping, https://realpython.github.io/fake-jobs/, contains job listings. Your job is to extract the data on each job and convert into a pandas DataFrame.\n"
   ]
  },
  {
   "attachments": {},
   "cell_type": "markdown",
   "metadata": {},
   "source": [
    "1. Start by performing a GET request on the url above and convert the response into a BeautifulSoup object.  \n",
    "a. Use the .find method to find the tag containing the first job title (\"Senior Python Developer\"). Hint: can you find a tag type and/or a class that could be helpful for extracting this information? Extract the text from this title.  \n",
    "b. Now, use what you did for the first title, but extract the job title for all jobs on this page. Store the results in a list.  \n",
    "c. Finally, extract the companies, locations, and posting dates for each job. For example, the first job has a company of \"Payne, Roberts and Davis\", a location of \"Stewartbury, AA\", and a posting date of \"2021-04-08\". Ensure that the text that you extract is clean, meaning no extra spaces or other characters at the beginning or end.  \n",
    "d. Take the lists that you have created and combine them into a pandas DataFrame. "
   ]
  },
  {
   "cell_type": "code",
   "execution_count": 2,
   "metadata": {},
   "outputs": [],
   "source": [
    "URL = 'https://realpython.github.io/fake-jobs/'\n",
    "\n",
    "response = requests.get(URL)"
   ]
  },
  {
   "cell_type": "code",
   "execution_count": 3,
   "metadata": {},
   "outputs": [
    {
     "data": {
      "text/plain": [
       "200"
      ]
     },
     "execution_count": 3,
     "metadata": {},
     "output_type": "execute_result"
    }
   ],
   "source": [
    "response.status_code"
   ]
  },
  {
   "cell_type": "code",
   "execution_count": 4,
   "metadata": {},
   "outputs": [],
   "source": [
    "soup = BS(response.text)"
   ]
  },
  {
   "cell_type": "code",
   "execution_count": 5,
   "metadata": {},
   "outputs": [
    {
     "data": {
      "text/plain": [
       "'Fake Python'"
      ]
     },
     "execution_count": 5,
     "metadata": {},
     "output_type": "execute_result"
    }
   ],
   "source": [
    "soup.find('title').text"
   ]
  },
  {
   "cell_type": "code",
   "execution_count": 6,
   "metadata": {},
   "outputs": [
    {
     "name": "stdout",
     "output_type": "stream",
     "text": [
      "Senior Python Developer\n"
     ]
    }
   ],
   "source": [
    "print(soup.find('h2').text)"
   ]
  },
  {
   "attachments": {},
   "cell_type": "markdown",
   "metadata": {},
   "source": [
    "b. Now, use what you did for the first title, but extract the job title for all jobs on this page. Store the results in a list.  \n"
   ]
  },
  {
   "cell_type": "code",
   "execution_count": 7,
   "metadata": {},
   "outputs": [],
   "source": [
    "table = soup.findAll('h2')"
   ]
  },
  {
   "cell_type": "code",
   "execution_count": 8,
   "metadata": {},
   "outputs": [],
   "source": [
    "roles = [x.text for x in table]"
   ]
  },
  {
   "cell_type": "code",
   "execution_count": 9,
   "metadata": {},
   "outputs": [],
   "source": [
    "jobs_df = pd.DataFrame(roles, columns=['jobs'])"
   ]
  },
  {
   "cell_type": "code",
   "execution_count": 10,
   "metadata": {},
   "outputs": [
    {
     "data": {
      "text/html": [
       "<div>\n",
       "<style scoped>\n",
       "    .dataframe tbody tr th:only-of-type {\n",
       "        vertical-align: middle;\n",
       "    }\n",
       "\n",
       "    .dataframe tbody tr th {\n",
       "        vertical-align: top;\n",
       "    }\n",
       "\n",
       "    .dataframe thead th {\n",
       "        text-align: right;\n",
       "    }\n",
       "</style>\n",
       "<table border=\"1\" class=\"dataframe\">\n",
       "  <thead>\n",
       "    <tr style=\"text-align: right;\">\n",
       "      <th></th>\n",
       "      <th>jobs</th>\n",
       "    </tr>\n",
       "  </thead>\n",
       "  <tbody>\n",
       "    <tr>\n",
       "      <th>0</th>\n",
       "      <td>Senior Python Developer</td>\n",
       "    </tr>\n",
       "    <tr>\n",
       "      <th>1</th>\n",
       "      <td>Energy engineer</td>\n",
       "    </tr>\n",
       "    <tr>\n",
       "      <th>2</th>\n",
       "      <td>Legal executive</td>\n",
       "    </tr>\n",
       "    <tr>\n",
       "      <th>3</th>\n",
       "      <td>Fitness centre manager</td>\n",
       "    </tr>\n",
       "    <tr>\n",
       "      <th>4</th>\n",
       "      <td>Product manager</td>\n",
       "    </tr>\n",
       "    <tr>\n",
       "      <th>...</th>\n",
       "      <td>...</td>\n",
       "    </tr>\n",
       "    <tr>\n",
       "      <th>95</th>\n",
       "      <td>Museum/gallery exhibitions officer</td>\n",
       "    </tr>\n",
       "    <tr>\n",
       "      <th>96</th>\n",
       "      <td>Radiographer, diagnostic</td>\n",
       "    </tr>\n",
       "    <tr>\n",
       "      <th>97</th>\n",
       "      <td>Database administrator</td>\n",
       "    </tr>\n",
       "    <tr>\n",
       "      <th>98</th>\n",
       "      <td>Furniture designer</td>\n",
       "    </tr>\n",
       "    <tr>\n",
       "      <th>99</th>\n",
       "      <td>Ship broker</td>\n",
       "    </tr>\n",
       "  </tbody>\n",
       "</table>\n",
       "<p>100 rows × 1 columns</p>\n",
       "</div>"
      ],
      "text/plain": [
       "                                  jobs\n",
       "0              Senior Python Developer\n",
       "1                      Energy engineer\n",
       "2                      Legal executive\n",
       "3               Fitness centre manager\n",
       "4                      Product manager\n",
       "..                                 ...\n",
       "95  Museum/gallery exhibitions officer\n",
       "96            Radiographer, diagnostic\n",
       "97              Database administrator\n",
       "98                  Furniture designer\n",
       "99                         Ship broker\n",
       "\n",
       "[100 rows x 1 columns]"
      ]
     },
     "execution_count": 10,
     "metadata": {},
     "output_type": "execute_result"
    }
   ],
   "source": [
    "jobs_df"
   ]
  },
  {
   "attachments": {},
   "cell_type": "markdown",
   "metadata": {},
   "source": [
    "c. Finally, extract the companies, locations, and posting dates for each job. For example, the first job has a company of \"Payne, Roberts and Davis\", a location of \"Stewartbury, AA\", and a posting date of \"2021-04-08\". Ensure that the text that you extract is clean, meaning no extra spaces or other characters at the beginning or end.  "
   ]
  },
  {
   "cell_type": "code",
   "execution_count": 11,
   "metadata": {},
   "outputs": [],
   "source": [
    "company = [x.text for x in soup.findAll('h3', attrs={'class','subtitle'})]"
   ]
  },
  {
   "cell_type": "code",
   "execution_count": 12,
   "metadata": {},
   "outputs": [],
   "source": [
    "location = [x.text for x in soup.findAll('p', attrs={'class','location'})]"
   ]
  },
  {
   "cell_type": "code",
   "execution_count": 13,
   "metadata": {},
   "outputs": [],
   "source": [
    "date = [x.get('datetime') for x in soup.findAll('time')]"
   ]
  },
  {
   "cell_type": "code",
   "execution_count": 14,
   "metadata": {},
   "outputs": [],
   "source": [
    "company_df = pd.DataFrame(company, columns=['company'])"
   ]
  },
  {
   "cell_type": "code",
   "execution_count": 15,
   "metadata": {},
   "outputs": [],
   "source": [
    "location_df = pd.DataFrame(location, columns=['location'])"
   ]
  },
  {
   "cell_type": "code",
   "execution_count": 16,
   "metadata": {},
   "outputs": [],
   "source": [
    "date_df = pd.DataFrame(date, columns=['date'])"
   ]
  },
  {
   "cell_type": "code",
   "execution_count": 17,
   "metadata": {},
   "outputs": [],
   "source": [
    "location_df['location']=location_df['location'].str.strip('\\n')"
   ]
  },
  {
   "cell_type": "code",
   "execution_count": 18,
   "metadata": {},
   "outputs": [],
   "source": [
    "location_df['location']=location_df['location'].str.replace('\\n','')"
   ]
  },
  {
   "cell_type": "code",
   "execution_count": 19,
   "metadata": {},
   "outputs": [],
   "source": [
    "jobs_df['company'] = company_df['company']"
   ]
  },
  {
   "cell_type": "code",
   "execution_count": 20,
   "metadata": {},
   "outputs": [],
   "source": [
    "jobs_df['location'] = location_df['location']"
   ]
  },
  {
   "cell_type": "code",
   "execution_count": 21,
   "metadata": {},
   "outputs": [],
   "source": [
    "jobs_df['date']= date_df['date']"
   ]
  },
  {
   "attachments": {},
   "cell_type": "markdown",
   "metadata": {},
   "source": [
    "d. Take the lists that you have created and combine them into a pandas DataFrame. \n"
   ]
  },
  {
   "cell_type": "code",
   "execution_count": 22,
   "metadata": {},
   "outputs": [
    {
     "data": {
      "text/html": [
       "<div>\n",
       "<style scoped>\n",
       "    .dataframe tbody tr th:only-of-type {\n",
       "        vertical-align: middle;\n",
       "    }\n",
       "\n",
       "    .dataframe tbody tr th {\n",
       "        vertical-align: top;\n",
       "    }\n",
       "\n",
       "    .dataframe thead th {\n",
       "        text-align: right;\n",
       "    }\n",
       "</style>\n",
       "<table border=\"1\" class=\"dataframe\">\n",
       "  <thead>\n",
       "    <tr style=\"text-align: right;\">\n",
       "      <th></th>\n",
       "      <th>jobs</th>\n",
       "      <th>company</th>\n",
       "      <th>location</th>\n",
       "      <th>date</th>\n",
       "    </tr>\n",
       "  </thead>\n",
       "  <tbody>\n",
       "    <tr>\n",
       "      <th>0</th>\n",
       "      <td>Senior Python Developer</td>\n",
       "      <td>Payne, Roberts and Davis</td>\n",
       "      <td>Stewartbury, AA</td>\n",
       "      <td>2021-04-08</td>\n",
       "    </tr>\n",
       "    <tr>\n",
       "      <th>1</th>\n",
       "      <td>Energy engineer</td>\n",
       "      <td>Vasquez-Davidson</td>\n",
       "      <td>Christopherville, AA</td>\n",
       "      <td>2021-04-08</td>\n",
       "    </tr>\n",
       "    <tr>\n",
       "      <th>2</th>\n",
       "      <td>Legal executive</td>\n",
       "      <td>Jackson, Chambers and Levy</td>\n",
       "      <td>Port Ericaburgh, AA</td>\n",
       "      <td>2021-04-08</td>\n",
       "    </tr>\n",
       "    <tr>\n",
       "      <th>3</th>\n",
       "      <td>Fitness centre manager</td>\n",
       "      <td>Savage-Bradley</td>\n",
       "      <td>East Seanview, AP</td>\n",
       "      <td>2021-04-08</td>\n",
       "    </tr>\n",
       "    <tr>\n",
       "      <th>4</th>\n",
       "      <td>Product manager</td>\n",
       "      <td>Ramirez Inc</td>\n",
       "      <td>North Jamieview, AP</td>\n",
       "      <td>2021-04-08</td>\n",
       "    </tr>\n",
       "    <tr>\n",
       "      <th>...</th>\n",
       "      <td>...</td>\n",
       "      <td>...</td>\n",
       "      <td>...</td>\n",
       "      <td>...</td>\n",
       "    </tr>\n",
       "    <tr>\n",
       "      <th>95</th>\n",
       "      <td>Museum/gallery exhibitions officer</td>\n",
       "      <td>Nguyen, Yoder and Petty</td>\n",
       "      <td>Lake Abigail, AE</td>\n",
       "      <td>2021-04-08</td>\n",
       "    </tr>\n",
       "    <tr>\n",
       "      <th>96</th>\n",
       "      <td>Radiographer, diagnostic</td>\n",
       "      <td>Holder LLC</td>\n",
       "      <td>Jacobshire, AP</td>\n",
       "      <td>2021-04-08</td>\n",
       "    </tr>\n",
       "    <tr>\n",
       "      <th>97</th>\n",
       "      <td>Database administrator</td>\n",
       "      <td>Yates-Ferguson</td>\n",
       "      <td>Port Susan, AE</td>\n",
       "      <td>2021-04-08</td>\n",
       "    </tr>\n",
       "    <tr>\n",
       "      <th>98</th>\n",
       "      <td>Furniture designer</td>\n",
       "      <td>Ortega-Lawrence</td>\n",
       "      <td>North Tiffany, AA</td>\n",
       "      <td>2021-04-08</td>\n",
       "    </tr>\n",
       "    <tr>\n",
       "      <th>99</th>\n",
       "      <td>Ship broker</td>\n",
       "      <td>Fuentes, Walls and Castro</td>\n",
       "      <td>Michelleville, AP</td>\n",
       "      <td>2021-04-08</td>\n",
       "    </tr>\n",
       "  </tbody>\n",
       "</table>\n",
       "<p>100 rows × 4 columns</p>\n",
       "</div>"
      ],
      "text/plain": [
       "                                  jobs                     company  \\\n",
       "0              Senior Python Developer    Payne, Roberts and Davis   \n",
       "1                      Energy engineer            Vasquez-Davidson   \n",
       "2                      Legal executive  Jackson, Chambers and Levy   \n",
       "3               Fitness centre manager              Savage-Bradley   \n",
       "4                      Product manager                 Ramirez Inc   \n",
       "..                                 ...                         ...   \n",
       "95  Museum/gallery exhibitions officer     Nguyen, Yoder and Petty   \n",
       "96            Radiographer, diagnostic                  Holder LLC   \n",
       "97              Database administrator              Yates-Ferguson   \n",
       "98                  Furniture designer             Ortega-Lawrence   \n",
       "99                         Ship broker   Fuentes, Walls and Castro   \n",
       "\n",
       "                              location        date  \n",
       "0                Stewartbury, AA        2021-04-08  \n",
       "1           Christopherville, AA        2021-04-08  \n",
       "2            Port Ericaburgh, AA        2021-04-08  \n",
       "3              East Seanview, AP        2021-04-08  \n",
       "4            North Jamieview, AP        2021-04-08  \n",
       "..                                 ...         ...  \n",
       "95              Lake Abigail, AE        2021-04-08  \n",
       "96                Jacobshire, AP        2021-04-08  \n",
       "97                Port Susan, AE        2021-04-08  \n",
       "98             North Tiffany, AA        2021-04-08  \n",
       "99             Michelleville, AP        2021-04-08  \n",
       "\n",
       "[100 rows x 4 columns]"
      ]
     },
     "execution_count": 22,
     "metadata": {},
     "output_type": "execute_result"
    }
   ],
   "source": [
    "jobs_df"
   ]
  },
  {
   "attachments": {},
   "cell_type": "markdown",
   "metadata": {},
   "source": [
    "2. Next, add a column that contains the url for the \"Apply\" button. Try this in two ways.   \n",
    "    a. First, use the BeautifulSoup find_all method to extract the urls.  \n",
    "    b. Next, get those same urls in a different way. Examine the urls and see if you can spot the pattern of how they are constructed. Then, build the url using the elements you have already extracted. Ensure that the urls that you created match those that you extracted using BeautifulSoup. Warning: You will need to do some string cleaning and prep in constructing the urls this way. For example, look carefully at the urls for the \"Software Engineer (Python)\" job and the \"Scientist, research (maths)\" job."
   ]
  },
  {
   "cell_type": "code",
   "execution_count": 23,
   "metadata": {},
   "outputs": [],
   "source": [
    "apply = [x.get('href') for x in soup.findAll('a')]"
   ]
  },
  {
   "cell_type": "code",
   "execution_count": 24,
   "metadata": {},
   "outputs": [
    {
     "name": "stdout",
     "output_type": "stream",
     "text": [
      "['https://www.realpython.com', 'https://realpython.github.io/fake-jobs/jobs/senior-python-developer-0.html', 'https://www.realpython.com', 'https://realpython.github.io/fake-jobs/jobs/energy-engineer-1.html', 'https://www.realpython.com', 'https://realpython.github.io/fake-jobs/jobs/legal-executive-2.html', 'https://www.realpython.com', 'https://realpython.github.io/fake-jobs/jobs/fitness-centre-manager-3.html', 'https://www.realpython.com', 'https://realpython.github.io/fake-jobs/jobs/product-manager-4.html', 'https://www.realpython.com', 'https://realpython.github.io/fake-jobs/jobs/medical-technical-officer-5.html', 'https://www.realpython.com', 'https://realpython.github.io/fake-jobs/jobs/physiological-scientist-6.html', 'https://www.realpython.com', 'https://realpython.github.io/fake-jobs/jobs/textile-designer-7.html', 'https://www.realpython.com', 'https://realpython.github.io/fake-jobs/jobs/television-floor-manager-8.html', 'https://www.realpython.com', 'https://realpython.github.io/fake-jobs/jobs/waste-management-officer-9.html', 'https://www.realpython.com', 'https://realpython.github.io/fake-jobs/jobs/software-engineer-python-10.html', 'https://www.realpython.com', 'https://realpython.github.io/fake-jobs/jobs/interpreter-11.html', 'https://www.realpython.com', 'https://realpython.github.io/fake-jobs/jobs/architect-12.html', 'https://www.realpython.com', 'https://realpython.github.io/fake-jobs/jobs/meteorologist-13.html', 'https://www.realpython.com', 'https://realpython.github.io/fake-jobs/jobs/audiological-scientist-14.html', 'https://www.realpython.com', 'https://realpython.github.io/fake-jobs/jobs/english-as-a-second-language-teacher-15.html', 'https://www.realpython.com', 'https://realpython.github.io/fake-jobs/jobs/surgeon-16.html', 'https://www.realpython.com', 'https://realpython.github.io/fake-jobs/jobs/equities-trader-17.html', 'https://www.realpython.com', 'https://realpython.github.io/fake-jobs/jobs/newspaper-journalist-18.html', 'https://www.realpython.com', 'https://realpython.github.io/fake-jobs/jobs/materials-engineer-19.html', 'https://www.realpython.com', 'https://realpython.github.io/fake-jobs/jobs/python-programmer-entry-level-20.html', 'https://www.realpython.com', 'https://realpython.github.io/fake-jobs/jobs/product-process-development-scientist-21.html', 'https://www.realpython.com', 'https://realpython.github.io/fake-jobs/jobs/scientist-research-maths-22.html', 'https://www.realpython.com', 'https://realpython.github.io/fake-jobs/jobs/ecologist-23.html', 'https://www.realpython.com', 'https://realpython.github.io/fake-jobs/jobs/materials-engineer-24.html', 'https://www.realpython.com', 'https://realpython.github.io/fake-jobs/jobs/historic-buildings-inspector-conservation-officer-25.html', 'https://www.realpython.com', 'https://realpython.github.io/fake-jobs/jobs/data-scientist-26.html', 'https://www.realpython.com', 'https://realpython.github.io/fake-jobs/jobs/psychiatrist-27.html', 'https://www.realpython.com', 'https://realpython.github.io/fake-jobs/jobs/structural-engineer-28.html', 'https://www.realpython.com', 'https://realpython.github.io/fake-jobs/jobs/immigration-officer-29.html', 'https://www.realpython.com', 'https://realpython.github.io/fake-jobs/jobs/python-programmer-entry-level-30.html', 'https://www.realpython.com', 'https://realpython.github.io/fake-jobs/jobs/neurosurgeon-31.html', 'https://www.realpython.com', 'https://realpython.github.io/fake-jobs/jobs/broadcast-engineer-32.html', 'https://www.realpython.com', 'https://realpython.github.io/fake-jobs/jobs/make-33.html', 'https://www.realpython.com', 'https://realpython.github.io/fake-jobs/jobs/nurse-adult-34.html', 'https://www.realpython.com', 'https://realpython.github.io/fake-jobs/jobs/air-broker-35.html', 'https://www.realpython.com', 'https://realpython.github.io/fake-jobs/jobs/editor-film-video-36.html', 'https://www.realpython.com', 'https://realpython.github.io/fake-jobs/jobs/production-assistant-radio-37.html', 'https://www.realpython.com', 'https://realpython.github.io/fake-jobs/jobs/engineer-communications-38.html', 'https://www.realpython.com', 'https://realpython.github.io/fake-jobs/jobs/sales-executive-39.html', 'https://www.realpython.com', 'https://realpython.github.io/fake-jobs/jobs/software-developer-python-40.html', 'https://www.realpython.com', 'https://realpython.github.io/fake-jobs/jobs/futures-trader-41.html', 'https://www.realpython.com', 'https://realpython.github.io/fake-jobs/jobs/tour-manager-42.html', 'https://www.realpython.com', 'https://realpython.github.io/fake-jobs/jobs/cytogeneticist-43.html', 'https://www.realpython.com', 'https://realpython.github.io/fake-jobs/jobs/designer-multimedia-44.html', 'https://www.realpython.com', 'https://realpython.github.io/fake-jobs/jobs/trade-union-research-officer-45.html', 'https://www.realpython.com', 'https://realpython.github.io/fake-jobs/jobs/chemist-analytical-46.html', 'https://www.realpython.com', 'https://realpython.github.io/fake-jobs/jobs/programmer-multimedia-47.html', 'https://www.realpython.com', 'https://realpython.github.io/fake-jobs/jobs/engineer-broadcasting-operations-48.html', 'https://www.realpython.com', 'https://realpython.github.io/fake-jobs/jobs/teacher-primary-school-49.html', 'https://www.realpython.com', 'https://realpython.github.io/fake-jobs/jobs/python-developer-50.html', 'https://www.realpython.com', 'https://realpython.github.io/fake-jobs/jobs/manufacturing-systems-engineer-51.html', 'https://www.realpython.com', 'https://realpython.github.io/fake-jobs/jobs/producer-television-film-video-52.html', 'https://www.realpython.com', 'https://realpython.github.io/fake-jobs/jobs/scientist-forensic-53.html', 'https://www.realpython.com', 'https://realpython.github.io/fake-jobs/jobs/bonds-trader-54.html', 'https://www.realpython.com', 'https://realpython.github.io/fake-jobs/jobs/editorial-assistant-55.html', 'https://www.realpython.com', 'https://realpython.github.io/fake-jobs/jobs/photographer-56.html', 'https://www.realpython.com', 'https://realpython.github.io/fake-jobs/jobs/retail-banker-57.html', 'https://www.realpython.com', 'https://realpython.github.io/fake-jobs/jobs/jewellery-designer-58.html', 'https://www.realpython.com', 'https://realpython.github.io/fake-jobs/jobs/ophthalmologist-59.html', 'https://www.realpython.com', 'https://realpython.github.io/fake-jobs/jobs/back-end-web-developer-python-django-60.html', 'https://www.realpython.com', 'https://realpython.github.io/fake-jobs/jobs/licensed-conveyancer-61.html', 'https://www.realpython.com', 'https://realpython.github.io/fake-jobs/jobs/futures-trader-62.html', 'https://www.realpython.com', 'https://realpython.github.io/fake-jobs/jobs/counselling-psychologist-63.html', 'https://www.realpython.com', 'https://realpython.github.io/fake-jobs/jobs/insurance-underwriter-64.html', 'https://www.realpython.com', 'https://realpython.github.io/fake-jobs/jobs/engineer-automotive-65.html', 'https://www.realpython.com', 'https://realpython.github.io/fake-jobs/jobs/producer-radio-66.html', 'https://www.realpython.com', 'https://realpython.github.io/fake-jobs/jobs/dispensing-optician-67.html', 'https://www.realpython.com', 'https://realpython.github.io/fake-jobs/jobs/designer-fashion-clothing-68.html', 'https://www.realpython.com', 'https://realpython.github.io/fake-jobs/jobs/chartered-loss-adjuster-69.html', 'https://www.realpython.com', 'https://realpython.github.io/fake-jobs/jobs/back-end-web-developer-python-django-70.html', 'https://www.realpython.com', 'https://realpython.github.io/fake-jobs/jobs/forest-woodland-manager-71.html', 'https://www.realpython.com', 'https://realpython.github.io/fake-jobs/jobs/clinical-cytogeneticist-72.html', 'https://www.realpython.com', 'https://realpython.github.io/fake-jobs/jobs/print-production-planner-73.html', 'https://www.realpython.com', 'https://realpython.github.io/fake-jobs/jobs/systems-developer-74.html', 'https://www.realpython.com', 'https://realpython.github.io/fake-jobs/jobs/graphic-designer-75.html', 'https://www.realpython.com', 'https://realpython.github.io/fake-jobs/jobs/writer-76.html', 'https://www.realpython.com', 'https://realpython.github.io/fake-jobs/jobs/field-seismologist-77.html', 'https://www.realpython.com', 'https://realpython.github.io/fake-jobs/jobs/chief-strategy-officer-78.html', 'https://www.realpython.com', 'https://realpython.github.io/fake-jobs/jobs/air-cabin-crew-79.html', 'https://www.realpython.com', 'https://realpython.github.io/fake-jobs/jobs/python-programmer-entry-level-80.html', 'https://www.realpython.com', 'https://realpython.github.io/fake-jobs/jobs/warden-ranger-81.html', 'https://www.realpython.com', 'https://realpython.github.io/fake-jobs/jobs/sports-therapist-82.html', 'https://www.realpython.com', 'https://realpython.github.io/fake-jobs/jobs/arts-development-officer-83.html', 'https://www.realpython.com', 'https://realpython.github.io/fake-jobs/jobs/printmaker-84.html', 'https://www.realpython.com', 'https://realpython.github.io/fake-jobs/jobs/health-and-safety-adviser-85.html', 'https://www.realpython.com', 'https://realpython.github.io/fake-jobs/jobs/manufacturing-systems-engineer-86.html', 'https://www.realpython.com', 'https://realpython.github.io/fake-jobs/jobs/programmer-applications-87.html', 'https://www.realpython.com', 'https://realpython.github.io/fake-jobs/jobs/medical-physicist-88.html', 'https://www.realpython.com', 'https://realpython.github.io/fake-jobs/jobs/media-planner-89.html', 'https://www.realpython.com', 'https://realpython.github.io/fake-jobs/jobs/software-developer-python-90.html', 'https://www.realpython.com', 'https://realpython.github.io/fake-jobs/jobs/surveyor-land-geomatics-91.html', 'https://www.realpython.com', 'https://realpython.github.io/fake-jobs/jobs/legal-executive-92.html', 'https://www.realpython.com', 'https://realpython.github.io/fake-jobs/jobs/librarian-academic-93.html', 'https://www.realpython.com', 'https://realpython.github.io/fake-jobs/jobs/barrister-94.html', 'https://www.realpython.com', 'https://realpython.github.io/fake-jobs/jobs/museum-gallery-exhibitions-officer-95.html', 'https://www.realpython.com', 'https://realpython.github.io/fake-jobs/jobs/radiographer-diagnostic-96.html', 'https://www.realpython.com', 'https://realpython.github.io/fake-jobs/jobs/database-administrator-97.html', 'https://www.realpython.com', 'https://realpython.github.io/fake-jobs/jobs/furniture-designer-98.html', 'https://www.realpython.com', 'https://realpython.github.io/fake-jobs/jobs/ship-broker-99.html']\n"
     ]
    }
   ],
   "source": [
    "print(apply)"
   ]
  },
  {
   "cell_type": "code",
   "execution_count": 25,
   "metadata": {},
   "outputs": [],
   "source": [
    "apply_df =  pd.DataFrame(apply, columns=['link'])"
   ]
  },
  {
   "cell_type": "code",
   "execution_count": 26,
   "metadata": {},
   "outputs": [],
   "source": [
    "apply_df_2 = [x for x in apply_df['link'] if x != \"https://www.realpython.com\"]"
   ]
  },
  {
   "cell_type": "code",
   "execution_count": 27,
   "metadata": {},
   "outputs": [],
   "source": [
    "apply_df_3 = pd.DataFrame(apply_df_2,columns=['link'])"
   ]
  },
  {
   "cell_type": "code",
   "execution_count": 28,
   "metadata": {},
   "outputs": [],
   "source": [
    "jobs_df['link'] = apply_df_3['link']"
   ]
  },
  {
   "cell_type": "code",
   "execution_count": 29,
   "metadata": {},
   "outputs": [
    {
     "data": {
      "text/html": [
       "<div>\n",
       "<style scoped>\n",
       "    .dataframe tbody tr th:only-of-type {\n",
       "        vertical-align: middle;\n",
       "    }\n",
       "\n",
       "    .dataframe tbody tr th {\n",
       "        vertical-align: top;\n",
       "    }\n",
       "\n",
       "    .dataframe thead th {\n",
       "        text-align: right;\n",
       "    }\n",
       "</style>\n",
       "<table border=\"1\" class=\"dataframe\">\n",
       "  <thead>\n",
       "    <tr style=\"text-align: right;\">\n",
       "      <th></th>\n",
       "      <th>jobs</th>\n",
       "      <th>company</th>\n",
       "      <th>location</th>\n",
       "      <th>date</th>\n",
       "      <th>link</th>\n",
       "    </tr>\n",
       "  </thead>\n",
       "  <tbody>\n",
       "    <tr>\n",
       "      <th>0</th>\n",
       "      <td>Senior Python Developer</td>\n",
       "      <td>Payne, Roberts and Davis</td>\n",
       "      <td>Stewartbury, AA</td>\n",
       "      <td>2021-04-08</td>\n",
       "      <td>https://realpython.github.io/fake-jobs/jobs/se...</td>\n",
       "    </tr>\n",
       "    <tr>\n",
       "      <th>1</th>\n",
       "      <td>Energy engineer</td>\n",
       "      <td>Vasquez-Davidson</td>\n",
       "      <td>Christopherville, AA</td>\n",
       "      <td>2021-04-08</td>\n",
       "      <td>https://realpython.github.io/fake-jobs/jobs/en...</td>\n",
       "    </tr>\n",
       "    <tr>\n",
       "      <th>2</th>\n",
       "      <td>Legal executive</td>\n",
       "      <td>Jackson, Chambers and Levy</td>\n",
       "      <td>Port Ericaburgh, AA</td>\n",
       "      <td>2021-04-08</td>\n",
       "      <td>https://realpython.github.io/fake-jobs/jobs/le...</td>\n",
       "    </tr>\n",
       "    <tr>\n",
       "      <th>3</th>\n",
       "      <td>Fitness centre manager</td>\n",
       "      <td>Savage-Bradley</td>\n",
       "      <td>East Seanview, AP</td>\n",
       "      <td>2021-04-08</td>\n",
       "      <td>https://realpython.github.io/fake-jobs/jobs/fi...</td>\n",
       "    </tr>\n",
       "    <tr>\n",
       "      <th>4</th>\n",
       "      <td>Product manager</td>\n",
       "      <td>Ramirez Inc</td>\n",
       "      <td>North Jamieview, AP</td>\n",
       "      <td>2021-04-08</td>\n",
       "      <td>https://realpython.github.io/fake-jobs/jobs/pr...</td>\n",
       "    </tr>\n",
       "    <tr>\n",
       "      <th>5</th>\n",
       "      <td>Medical technical officer</td>\n",
       "      <td>Rogers-Yates</td>\n",
       "      <td>Davidville, AP</td>\n",
       "      <td>2021-04-08</td>\n",
       "      <td>https://realpython.github.io/fake-jobs/jobs/me...</td>\n",
       "    </tr>\n",
       "    <tr>\n",
       "      <th>6</th>\n",
       "      <td>Physiological scientist</td>\n",
       "      <td>Kramer-Klein</td>\n",
       "      <td>South Christopher, AE</td>\n",
       "      <td>2021-04-08</td>\n",
       "      <td>https://realpython.github.io/fake-jobs/jobs/ph...</td>\n",
       "    </tr>\n",
       "    <tr>\n",
       "      <th>7</th>\n",
       "      <td>Textile designer</td>\n",
       "      <td>Meyers-Johnson</td>\n",
       "      <td>Port Jonathan, AE</td>\n",
       "      <td>2021-04-08</td>\n",
       "      <td>https://realpython.github.io/fake-jobs/jobs/te...</td>\n",
       "    </tr>\n",
       "    <tr>\n",
       "      <th>8</th>\n",
       "      <td>Television floor manager</td>\n",
       "      <td>Hughes-Williams</td>\n",
       "      <td>Osbornetown, AE</td>\n",
       "      <td>2021-04-08</td>\n",
       "      <td>https://realpython.github.io/fake-jobs/jobs/te...</td>\n",
       "    </tr>\n",
       "    <tr>\n",
       "      <th>9</th>\n",
       "      <td>Waste management officer</td>\n",
       "      <td>Jones, Williams and Villa</td>\n",
       "      <td>Scotttown, AP</td>\n",
       "      <td>2021-04-08</td>\n",
       "      <td>https://realpython.github.io/fake-jobs/jobs/wa...</td>\n",
       "    </tr>\n",
       "    <tr>\n",
       "      <th>10</th>\n",
       "      <td>Software Engineer (Python)</td>\n",
       "      <td>Garcia PLC</td>\n",
       "      <td>Ericberg, AE</td>\n",
       "      <td>2021-04-08</td>\n",
       "      <td>https://realpython.github.io/fake-jobs/jobs/so...</td>\n",
       "    </tr>\n",
       "    <tr>\n",
       "      <th>11</th>\n",
       "      <td>Interpreter</td>\n",
       "      <td>Gregory and Sons</td>\n",
       "      <td>Ramireztown, AE</td>\n",
       "      <td>2021-04-08</td>\n",
       "      <td>https://realpython.github.io/fake-jobs/jobs/in...</td>\n",
       "    </tr>\n",
       "    <tr>\n",
       "      <th>12</th>\n",
       "      <td>Architect</td>\n",
       "      <td>Clark, Garcia and Sosa</td>\n",
       "      <td>Figueroaview, AA</td>\n",
       "      <td>2021-04-08</td>\n",
       "      <td>https://realpython.github.io/fake-jobs/jobs/ar...</td>\n",
       "    </tr>\n",
       "    <tr>\n",
       "      <th>13</th>\n",
       "      <td>Meteorologist</td>\n",
       "      <td>Bush PLC</td>\n",
       "      <td>Kelseystad, AA</td>\n",
       "      <td>2021-04-08</td>\n",
       "      <td>https://realpython.github.io/fake-jobs/jobs/me...</td>\n",
       "    </tr>\n",
       "    <tr>\n",
       "      <th>14</th>\n",
       "      <td>Audiological scientist</td>\n",
       "      <td>Salazar-Meyers</td>\n",
       "      <td>Williamsburgh, AE</td>\n",
       "      <td>2021-04-08</td>\n",
       "      <td>https://realpython.github.io/fake-jobs/jobs/au...</td>\n",
       "    </tr>\n",
       "  </tbody>\n",
       "</table>\n",
       "</div>"
      ],
      "text/plain": [
       "                          jobs                     company  \\\n",
       "0      Senior Python Developer    Payne, Roberts and Davis   \n",
       "1              Energy engineer            Vasquez-Davidson   \n",
       "2              Legal executive  Jackson, Chambers and Levy   \n",
       "3       Fitness centre manager              Savage-Bradley   \n",
       "4              Product manager                 Ramirez Inc   \n",
       "5    Medical technical officer                Rogers-Yates   \n",
       "6      Physiological scientist                Kramer-Klein   \n",
       "7             Textile designer              Meyers-Johnson   \n",
       "8     Television floor manager             Hughes-Williams   \n",
       "9     Waste management officer   Jones, Williams and Villa   \n",
       "10  Software Engineer (Python)                  Garcia PLC   \n",
       "11                 Interpreter            Gregory and Sons   \n",
       "12                   Architect      Clark, Garcia and Sosa   \n",
       "13               Meteorologist                    Bush PLC   \n",
       "14      Audiological scientist              Salazar-Meyers   \n",
       "\n",
       "                               location        date  \\\n",
       "0                 Stewartbury, AA        2021-04-08   \n",
       "1            Christopherville, AA        2021-04-08   \n",
       "2             Port Ericaburgh, AA        2021-04-08   \n",
       "3               East Seanview, AP        2021-04-08   \n",
       "4             North Jamieview, AP        2021-04-08   \n",
       "5                  Davidville, AP        2021-04-08   \n",
       "6           South Christopher, AE        2021-04-08   \n",
       "7               Port Jonathan, AE        2021-04-08   \n",
       "8                 Osbornetown, AE        2021-04-08   \n",
       "9                   Scotttown, AP        2021-04-08   \n",
       "10                   Ericberg, AE        2021-04-08   \n",
       "11                Ramireztown, AE        2021-04-08   \n",
       "12               Figueroaview, AA        2021-04-08   \n",
       "13                 Kelseystad, AA        2021-04-08   \n",
       "14              Williamsburgh, AE        2021-04-08   \n",
       "\n",
       "                                                 link  \n",
       "0   https://realpython.github.io/fake-jobs/jobs/se...  \n",
       "1   https://realpython.github.io/fake-jobs/jobs/en...  \n",
       "2   https://realpython.github.io/fake-jobs/jobs/le...  \n",
       "3   https://realpython.github.io/fake-jobs/jobs/fi...  \n",
       "4   https://realpython.github.io/fake-jobs/jobs/pr...  \n",
       "5   https://realpython.github.io/fake-jobs/jobs/me...  \n",
       "6   https://realpython.github.io/fake-jobs/jobs/ph...  \n",
       "7   https://realpython.github.io/fake-jobs/jobs/te...  \n",
       "8   https://realpython.github.io/fake-jobs/jobs/te...  \n",
       "9   https://realpython.github.io/fake-jobs/jobs/wa...  \n",
       "10  https://realpython.github.io/fake-jobs/jobs/so...  \n",
       "11  https://realpython.github.io/fake-jobs/jobs/in...  \n",
       "12  https://realpython.github.io/fake-jobs/jobs/ar...  \n",
       "13  https://realpython.github.io/fake-jobs/jobs/me...  \n",
       "14  https://realpython.github.io/fake-jobs/jobs/au...  "
      ]
     },
     "execution_count": 29,
     "metadata": {},
     "output_type": "execute_result"
    }
   ],
   "source": [
    "jobs_df.head(15)"
   ]
  },
  {
   "attachments": {},
   "cell_type": "markdown",
   "metadata": {},
   "source": [
    "3. Finally, we want to get the job description text for each job.  \n",
    "    a. Start by looking at the page for the first job, https://realpython.github.io/fake-jobs/jobs/senior-python-developer-0.html. Using BeautifulSoup, extract the job description paragraph.  \n",
    "    b. We want to be able to do this for all pages. Write a function which takes as input a url and returns the description text on that page. For example, if you input \"https://realpython.github.io/fake-jobs/jobs/television-floor-manager-8.html\" into your function, it should return the string \"At be than always different American address. Former claim chance prevent why measure too. Almost before some military outside baby interview. Face top individual win suddenly. Parent do ten after those scientist. Medical effort assume teacher wall. Significant his himself clearly very. Expert stop area along individual. Three own bank recognize special good along.\".  \n",
    "    c. Use the [.apply method](https://pandas.pydata.org/docs/reference/api/pandas.Series.apply.html) on the url column you created above to retrieve the description text for all of the jobs."
   ]
  },
  {
   "cell_type": "code",
   "execution_count": 30,
   "metadata": {},
   "outputs": [],
   "source": [
    "URL2 = 'https://realpython.github.io/fake-jobs/jobs/senior-python-developer-0.html'\n",
    "\n",
    "response2 = requests.get(URL2)\n",
    "soup2 = BS(response2.text)\n",
    "f = [x.text for x in soup2.findAll('div', attrs={'class','content'})]\n",
    "f = [string.strip() for string in f]\n"
   ]
  },
  {
   "cell_type": "code",
   "execution_count": 31,
   "metadata": {},
   "outputs": [
    {
     "data": {
      "text/plain": [
       "['Professional asset web application environmentally friendly detail-oriented asset. Coordinate educational dashboard agile employ growth opportunity. Company programs CSS explore role. Html educational grit web application. Oversea SCRUM talented support. Web Application fast-growing communities inclusive programs job CSS. Css discussions growth opportunity explore open-minded oversee. Css Python environmentally friendly collaborate inclusive role. Django no experience oversee dashboard environmentally friendly willing to learn programs. Programs open-minded programs asset.\\nLocation: Stewartbury, AA\\nPosted: 2021-04-08']"
      ]
     },
     "execution_count": 31,
     "metadata": {},
     "output_type": "execute_result"
    }
   ],
   "source": [
    "f"
   ]
  },
  {
   "cell_type": "code",
   "execution_count": 32,
   "metadata": {},
   "outputs": [],
   "source": [
    "useing = jobs_df['jobs'].reset_index()"
   ]
  },
  {
   "cell_type": "code",
   "execution_count": 33,
   "metadata": {},
   "outputs": [],
   "source": [
    "useing['jobs']=useing['jobs'].str.lower()"
   ]
  },
  {
   "cell_type": "code",
   "execution_count": 34,
   "metadata": {},
   "outputs": [],
   "source": [
    "useing['jobs']= useing['jobs'].replace('\\s+','-', regex= True)"
   ]
  },
  {
   "cell_type": "code",
   "execution_count": 35,
   "metadata": {},
   "outputs": [],
   "source": [
    "useing['jobs'] = [f\"{x[1]}-{x[0]}\" for x in enumerate(useing['jobs'])]"
   ]
  },
  {
   "cell_type": "code",
   "execution_count": 36,
   "metadata": {},
   "outputs": [],
   "source": [
    "useing['jobs']= useing['jobs'].str.replace(r'\\(|\\)', '', regex=True)"
   ]
  },
  {
   "cell_type": "code",
   "execution_count": 37,
   "metadata": {},
   "outputs": [],
   "source": [
    "useing['linkn']= 'https://realpython.github.io/fake-jobs/jobs/' + useing['jobs'] + '.html'"
   ]
  },
  {
   "cell_type": "code",
   "execution_count": 38,
   "metadata": {},
   "outputs": [],
   "source": [
    "hello = useing['linkn']"
   ]
  },
  {
   "cell_type": "code",
   "execution_count": 39,
   "metadata": {},
   "outputs": [],
   "source": [
    "pd.set_option('max_colwidth',1000)"
   ]
  },
  {
   "cell_type": "code",
   "execution_count": 52,
   "metadata": {},
   "outputs": [],
   "source": [
    "def tot(entry):\n",
    "    response3 = requests.get(entry)\n",
    "    soup3 = BS(response3.text)\n",
    "    f = soup3.findAll('p')[1].text\n",
    "    return f\n"
   ]
  },
  {
   "cell_type": "code",
   "execution_count": 53,
   "metadata": {},
   "outputs": [],
   "source": [
    "jobs_df['dscpt'] = jobs_df['link'].apply(tot)"
   ]
  },
  {
   "cell_type": "code",
   "execution_count": 54,
   "metadata": {},
   "outputs": [
    {
     "data": {
      "text/html": [
       "<div>\n",
       "<style scoped>\n",
       "    .dataframe tbody tr th:only-of-type {\n",
       "        vertical-align: middle;\n",
       "    }\n",
       "\n",
       "    .dataframe tbody tr th {\n",
       "        vertical-align: top;\n",
       "    }\n",
       "\n",
       "    .dataframe thead th {\n",
       "        text-align: right;\n",
       "    }\n",
       "</style>\n",
       "<table border=\"1\" class=\"dataframe\">\n",
       "  <thead>\n",
       "    <tr style=\"text-align: right;\">\n",
       "      <th></th>\n",
       "      <th>jobs</th>\n",
       "      <th>company</th>\n",
       "      <th>location</th>\n",
       "      <th>date</th>\n",
       "      <th>link</th>\n",
       "      <th>dscpt</th>\n",
       "    </tr>\n",
       "  </thead>\n",
       "  <tbody>\n",
       "    <tr>\n",
       "      <th>0</th>\n",
       "      <td>Senior Python Developer</td>\n",
       "      <td>Payne, Roberts and Davis</td>\n",
       "      <td>Stewartbury, AA</td>\n",
       "      <td>2021-04-08</td>\n",
       "      <td>https://realpython.github.io/fake-jobs/jobs/senior-python-developer-0.html</td>\n",
       "      <td>Professional asset web application environmentally friendly detail-oriented asset. Coordinate educational dashboard agile employ growth opportunity. Company programs CSS explore role. Html educational grit web application. Oversea SCRUM talented support. Web Application fast-growing communities inclusive programs job CSS. Css discussions growth opportunity explore open-minded oversee. Css Python environmentally friendly collaborate inclusive role. Django no experience oversee dashboard environmentally friendly willing to learn programs. Programs open-minded programs asset.</td>\n",
       "    </tr>\n",
       "    <tr>\n",
       "      <th>1</th>\n",
       "      <td>Energy engineer</td>\n",
       "      <td>Vasquez-Davidson</td>\n",
       "      <td>Christopherville, AA</td>\n",
       "      <td>2021-04-08</td>\n",
       "      <td>https://realpython.github.io/fake-jobs/jobs/energy-engineer-1.html</td>\n",
       "      <td>Party prevent live. Quickly candidate change although. Together type music hospital. Every speech support time operation wear often.</td>\n",
       "    </tr>\n",
       "    <tr>\n",
       "      <th>2</th>\n",
       "      <td>Legal executive</td>\n",
       "      <td>Jackson, Chambers and Levy</td>\n",
       "      <td>Port Ericaburgh, AA</td>\n",
       "      <td>2021-04-08</td>\n",
       "      <td>https://realpython.github.io/fake-jobs/jobs/legal-executive-2.html</td>\n",
       "      <td>Administration even relate head color. Staff beyond chair recently and off. Own available buy country store build before. Already against which continue. Look road article quickly. International big employee determine positive go Congress. Level others record hospital employee toward like.</td>\n",
       "    </tr>\n",
       "    <tr>\n",
       "      <th>3</th>\n",
       "      <td>Fitness centre manager</td>\n",
       "      <td>Savage-Bradley</td>\n",
       "      <td>East Seanview, AP</td>\n",
       "      <td>2021-04-08</td>\n",
       "      <td>https://realpython.github.io/fake-jobs/jobs/fitness-centre-manager-3.html</td>\n",
       "      <td>Tv program actually race tonight themselves true power. Study economy night actually score from. Name care several. Good explain grow water plant perform resource. Security stock ball organization recognize civil. Pm her then nothing increase.</td>\n",
       "    </tr>\n",
       "    <tr>\n",
       "      <th>4</th>\n",
       "      <td>Product manager</td>\n",
       "      <td>Ramirez Inc</td>\n",
       "      <td>North Jamieview, AP</td>\n",
       "      <td>2021-04-08</td>\n",
       "      <td>https://realpython.github.io/fake-jobs/jobs/product-manager-4.html</td>\n",
       "      <td>Traditional page a although for study anyone. Could yourself plan base rise would. Wear individual about add senior woman. Partner couple part cup few read consider. Take however ball ever laugh society technology. President stage population boy.</td>\n",
       "    </tr>\n",
       "    <tr>\n",
       "      <th>...</th>\n",
       "      <td>...</td>\n",
       "      <td>...</td>\n",
       "      <td>...</td>\n",
       "      <td>...</td>\n",
       "      <td>...</td>\n",
       "      <td>...</td>\n",
       "    </tr>\n",
       "    <tr>\n",
       "      <th>95</th>\n",
       "      <td>Museum/gallery exhibitions officer</td>\n",
       "      <td>Nguyen, Yoder and Petty</td>\n",
       "      <td>Lake Abigail, AE</td>\n",
       "      <td>2021-04-08</td>\n",
       "      <td>https://realpython.github.io/fake-jobs/jobs/museum-gallery-exhibitions-officer-95.html</td>\n",
       "      <td>Paper age physical current note. There reality size move red join. Trouble you eight describe pattern hard however sign. Space majority bit instead smile happen. Green wife in end decade leader. Begin actually team industry only. Various picture rule poor information. Admit play avoid few. Day dog receive wife.</td>\n",
       "    </tr>\n",
       "    <tr>\n",
       "      <th>96</th>\n",
       "      <td>Radiographer, diagnostic</td>\n",
       "      <td>Holder LLC</td>\n",
       "      <td>Jacobshire, AP</td>\n",
       "      <td>2021-04-08</td>\n",
       "      <td>https://realpython.github.io/fake-jobs/jobs/radiographer-diagnostic-96.html</td>\n",
       "      <td>Able such right culture. Wrong pick structure wrong figure continue food. Glass loss increase organization decide. Present spend make garden social man. Any manager political keep attack behavior security movement. Perhaps such those position wrong. Quickly wind include allow must point. Similar age option war partner determine. Wide method movie painting. Rate measure brother approach five. Later role change. Adult prepare son particular economy evening same trouble. Family east within walk school.</td>\n",
       "    </tr>\n",
       "    <tr>\n",
       "      <th>97</th>\n",
       "      <td>Database administrator</td>\n",
       "      <td>Yates-Ferguson</td>\n",
       "      <td>Port Susan, AE</td>\n",
       "      <td>2021-04-08</td>\n",
       "      <td>https://realpython.github.io/fake-jobs/jobs/database-administrator-97.html</td>\n",
       "      <td>Create day party decade high clear. Past trade believe worry film. Approach beautiful late. Manage every quality he under. Town foot hotel brother. Perform particular only his.</td>\n",
       "    </tr>\n",
       "    <tr>\n",
       "      <th>98</th>\n",
       "      <td>Furniture designer</td>\n",
       "      <td>Ortega-Lawrence</td>\n",
       "      <td>North Tiffany, AA</td>\n",
       "      <td>2021-04-08</td>\n",
       "      <td>https://realpython.github.io/fake-jobs/jobs/furniture-designer-98.html</td>\n",
       "      <td>Pressure under rock next week. Recognize so relationship risk. Similar myself improve.</td>\n",
       "    </tr>\n",
       "    <tr>\n",
       "      <th>99</th>\n",
       "      <td>Ship broker</td>\n",
       "      <td>Fuentes, Walls and Castro</td>\n",
       "      <td>Michelleville, AP</td>\n",
       "      <td>2021-04-08</td>\n",
       "      <td>https://realpython.github.io/fake-jobs/jobs/ship-broker-99.html</td>\n",
       "      <td>Management common popular project only. Must small hair strong reveal future girl. Mother anything western Congress. You thought PM charge or put upon. Least building military seem. Glass type structure so magazine worker. Message become of Republican life field game look.</td>\n",
       "    </tr>\n",
       "  </tbody>\n",
       "</table>\n",
       "<p>100 rows × 6 columns</p>\n",
       "</div>"
      ],
      "text/plain": [
       "                                  jobs                     company  \\\n",
       "0              Senior Python Developer    Payne, Roberts and Davis   \n",
       "1                      Energy engineer            Vasquez-Davidson   \n",
       "2                      Legal executive  Jackson, Chambers and Levy   \n",
       "3               Fitness centre manager              Savage-Bradley   \n",
       "4                      Product manager                 Ramirez Inc   \n",
       "..                                 ...                         ...   \n",
       "95  Museum/gallery exhibitions officer     Nguyen, Yoder and Petty   \n",
       "96            Radiographer, diagnostic                  Holder LLC   \n",
       "97              Database administrator              Yates-Ferguson   \n",
       "98                  Furniture designer             Ortega-Lawrence   \n",
       "99                         Ship broker   Fuentes, Walls and Castro   \n",
       "\n",
       "                              location        date  \\\n",
       "0                Stewartbury, AA        2021-04-08   \n",
       "1           Christopherville, AA        2021-04-08   \n",
       "2            Port Ericaburgh, AA        2021-04-08   \n",
       "3              East Seanview, AP        2021-04-08   \n",
       "4            North Jamieview, AP        2021-04-08   \n",
       "..                                 ...         ...   \n",
       "95              Lake Abigail, AE        2021-04-08   \n",
       "96                Jacobshire, AP        2021-04-08   \n",
       "97                Port Susan, AE        2021-04-08   \n",
       "98             North Tiffany, AA        2021-04-08   \n",
       "99             Michelleville, AP        2021-04-08   \n",
       "\n",
       "                                                                                      link  \\\n",
       "0               https://realpython.github.io/fake-jobs/jobs/senior-python-developer-0.html   \n",
       "1                       https://realpython.github.io/fake-jobs/jobs/energy-engineer-1.html   \n",
       "2                       https://realpython.github.io/fake-jobs/jobs/legal-executive-2.html   \n",
       "3                https://realpython.github.io/fake-jobs/jobs/fitness-centre-manager-3.html   \n",
       "4                       https://realpython.github.io/fake-jobs/jobs/product-manager-4.html   \n",
       "..                                                                                     ...   \n",
       "95  https://realpython.github.io/fake-jobs/jobs/museum-gallery-exhibitions-officer-95.html   \n",
       "96             https://realpython.github.io/fake-jobs/jobs/radiographer-diagnostic-96.html   \n",
       "97              https://realpython.github.io/fake-jobs/jobs/database-administrator-97.html   \n",
       "98                  https://realpython.github.io/fake-jobs/jobs/furniture-designer-98.html   \n",
       "99                         https://realpython.github.io/fake-jobs/jobs/ship-broker-99.html   \n",
       "\n",
       "                                                                                                                                                                                                                                                                                                                                                                                                                                                                                                                                                                                                  dscpt  \n",
       "0   Professional asset web application environmentally friendly detail-oriented asset. Coordinate educational dashboard agile employ growth opportunity. Company programs CSS explore role. Html educational grit web application. Oversea SCRUM talented support. Web Application fast-growing communities inclusive programs job CSS. Css discussions growth opportunity explore open-minded oversee. Css Python environmentally friendly collaborate inclusive role. Django no experience oversee dashboard environmentally friendly willing to learn programs. Programs open-minded programs asset.  \n",
       "1                                                                                                                                                                                                                                                                                                                                                                                                                                                                  Party prevent live. Quickly candidate change although. Together type music hospital. Every speech support time operation wear often.  \n",
       "2                                                                                                                                                                                                                                                                                                    Administration even relate head color. Staff beyond chair recently and off. Own available buy country store build before. Already against which continue. Look road article quickly. International big employee determine positive go Congress. Level others record hospital employee toward like.  \n",
       "3                                                                                                                                                                                                                                                                                                                                                   Tv program actually race tonight themselves true power. Study economy night actually score from. Name care several. Good explain grow water plant perform resource. Security stock ball organization recognize civil. Pm her then nothing increase.  \n",
       "4                                                                                                                                                                                                                                                                                                                                                Traditional page a although for study anyone. Could yourself plan base rise would. Wear individual about add senior woman. Partner couple part cup few read consider. Take however ball ever laugh society technology. President stage population boy.  \n",
       "..                                                                                                                                                                                                                                                                                                                                                                                                                                                                                                                                                                                                  ...  \n",
       "95                                                                                                                                                                                                                                                                             Paper age physical current note. There reality size move red join. Trouble you eight describe pattern hard however sign. Space majority bit instead smile happen. Green wife in end decade leader. Begin actually team industry only. Various picture rule poor information. Admit play avoid few. Day dog receive wife.  \n",
       "96                                                                             Able such right culture. Wrong pick structure wrong figure continue food. Glass loss increase organization decide. Present spend make garden social man. Any manager political keep attack behavior security movement. Perhaps such those position wrong. Quickly wind include allow must point. Similar age option war partner determine. Wide method movie painting. Rate measure brother approach five. Later role change. Adult prepare son particular economy evening same trouble. Family east within walk school.  \n",
       "97                                                                                                                                                                                                                                                                                                                                                                                                                     Create day party decade high clear. Past trade believe worry film. Approach beautiful late. Manage every quality he under. Town foot hotel brother. Perform particular only his.  \n",
       "98                                                                                                                                                                                                                                                                                                                                                                                                                                                                                                               Pressure under rock next week. Recognize so relationship risk. Similar myself improve.  \n",
       "99                                                                                                                                                                                                                                                                                                                    Management common popular project only. Must small hair strong reveal future girl. Mother anything western Congress. You thought PM charge or put upon. Least building military seem. Glass type structure so magazine worker. Message become of Republican life field game look.  \n",
       "\n",
       "[100 rows x 6 columns]"
      ]
     },
     "execution_count": 54,
     "metadata": {},
     "output_type": "execute_result"
    }
   ],
   "source": [
    "jobs_df"
   ]
  },
  {
   "attachments": {},
   "cell_type": "markdown",
   "metadata": {},
   "source": []
  }
 ],
 "metadata": {
  "kernelspec": {
   "display_name": "base",
   "language": "python",
   "name": "python3"
  },
  "language_info": {
   "codemirror_mode": {
    "name": "ipython",
    "version": 3
   },
   "file_extension": ".py",
   "mimetype": "text/x-python",
   "name": "python",
   "nbconvert_exporter": "python",
   "pygments_lexer": "ipython3",
   "version": "3.9.13"
  },
  "orig_nbformat": 4
 },
 "nbformat": 4,
 "nbformat_minor": 2
}
